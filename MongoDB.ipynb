Q1. What is MongoDB? Explain non-relational databases in short. In which scenarios it is preferred to use MongoDB over SQL databases?

MongoDB is a popular NoSQL (non-relational) database management system that provides a flexible, scalable, and high-performance solution for storing and retrieving data. Unlike traditional SQL databases, which use a structured schema and tables to organize data, MongoDB uses a document-oriented model. In MongoDB, data is stored in flexible JSON-like documents, making it easier to handle complex, hierarchical data structures.

Non-relational databases like MongoDB are preferred in scenarios where:
Scalability: Non-relational databases are often more scalable, allowing for horizontal scaling across multiple servers or nodes without sacrificing performance.

Flexibility: NoSQL databases like MongoDB offer flexible schemas, allowing for dynamic changes to data structures without requiring downtime or schema migrations.

Handling unstructured or semi-structured data: Non-relational databases excel at handling unstructured or semi-structured data, such as social media posts, sensor data, or log files, where the schema may evolve over time.

High performance for read and write operations: NoSQL databases are designed to handle high volumes of read and write operations efficiently, making them suitable for real-time applications and big data processing.

Use cases requiring high availability and fault tolerance: NoSQL databases often provide built-in features for replication, sharding, and automatic failover, ensuring high availability and fault tolerance.

In contrast, SQL databases are typically preferred in scenarios where:
Data integrity and consistency: SQL databases enforce ACID (Atomicity, Consistency, Isolation, Durability) properties, ensuring data integrity and consistency, which is crucial for transactional applications.

Structured data with complex relationships: SQL databases excel at managing structured data with complex relationships between entities, such as in banking systems or e-commerce platforms.

Standardized query language: SQL provides a standardized query language (SQL) for performing complex queries and aggregations, making it easier to retrieve and analyze data.


Q2. State and Explain the features of MongoDB.
MongoDB offers several features that make it a popular choice for developers and organizations. Here are some key features of MongoDB:

Document-Oriented: MongoDB stores data in flexible, JSON-like documents called BSON (Binary JSON). This document-oriented approach allows for storing complex data structures natively without the need for complex joins typically found in relational databases.

Schema Flexibility: Unlike traditional SQL databases, MongoDB doesn't require a predefined schema. Each document in a collection can have its own unique structure, allowing for dynamic and iterative development.

Scalability: MongoDB is designed to scale out horizontally, meaning it can distribute data across multiple servers or nodes to handle large volumes of traffic and data. This horizontal scaling approach enables MongoDB to handle high throughput and large datasets efficiently.

High Availability: MongoDB provides features like replica sets and automatic failover to ensure high availability of data. Replica sets maintain multiple copies of data across different servers, allowing for automatic failover in case of server failure without any downtime.

Indexing: MongoDB supports various types of indexes, including single-field, compound, geospatial, and text indexes. Indexing improves query performance by allowing MongoDB to quickly locate and retrieve documents based on specified criteria.

Aggregation Framework: MongoDB includes a powerful aggregation framework for performing complex data aggregation operations like grouping, filtering, and sorting. This framework enables developers to perform analytics and business intelligence tasks directly within the database.

Ad Hoc Queries: MongoDB supports ad hoc queries, allowing developers to query data using a rich and expressive query language. The MongoDB query language provides support for a wide range of operations, including CRUD (Create, Read, Update, Delete) operations, aggregation, and geospatial queries.

Geospatial Capabilities: MongoDB offers built-in support for geospatial data and queries, making it well-suited for applications that require location-based functionality, such as mapping and geolocation services.

Full-Text Search: MongoDB provides full-text search capabilities through its text indexes. This feature allows developers to perform efficient text searches across large collections of documents, making it suitable for applications with search functionality.

Security: MongoDB offers robust security features, including authentication, authorization, encryption, and auditing. These features help protect data against unauthorized access, ensuring compliance with security standards and regulations.


Q3. Write a code to connect MongoDB to Python. Also, create a database and a collection in MongoDB
import pymongo

client = pymongo.MongoClient("mongodb://localhost:27017/")  # Assuming MongoDB is running on localhost

mydb = client["mydatabase"]

mycol = mydb["customers"]

mydict = { "name": "John", "address": "Highway 37" }
x = mycol.insert_one(mydict)

print("Document ID:", x.inserted_id)

Make sure you have installed the pymongo library. You can install it using pip:
pip install pymongo

In the code above:

We import the pymongo library.
We connect to the MongoDB server running on the localhost at the default port (27017).
We create a database named "mydatabase" using client["mydatabase"].
We create a collection named "customers" using mydb["customers"].
We insert a document into the "customers" collection using insert_one().
Finally, we print the ID of the inserted document.


Q4. Using the database and the collection created in question number 3, write a code to insert one record, and insert many records. Use the find() and find_one() methods to print the inserted record.
import pymongo

client = pymongo.MongoClient("mongodb://localhost:27017/")  

mydb = client["mydatabase"]
mycol = mydb["customers"]

record_one = { "name": "Alice", "address": "123 Main Street" }
result_one = mycol.insert_one(record_one)
print("Inserted Record ID (One):", result_one.inserted_id)

records_many = [
    { "name": "Bob", "address": "456 Elm Street" },
    { "name": "Charlie", "address": "789 Oak Street" },
    { "name": "David", "address": "101 Pine Street" }
]
result_many = mycol.insert_many(records_many)
print("Inserted Records IDs (Many):", result_many.inserted_ids)

print("Inserted Record (One):", mycol.find_one({"_id": result_one.inserted_id}))

print("All Inserted Records:")
for record in mycol.find():
    print(record)


Q5. Explain how you can use the find() method to query the MongoDB database. Write a simple code to demonstrate this.
In MongoDB, the find() method is used to query documents in a collection. This method retrieves documents that match the specified criteria from the collection and returns a cursor object, which can be iterated over to access the matching documents.

The find() method can accept various parameters to specify the query criteria, projection, sorting, and limiting the number of documents returned.

Here's a breakdown of how you can use the find() method:
Query Criteria: You can pass a query document as an argument to the find() method to specify the criteria for matching documents. MongoDB will return documents that match the fields and values in the query document.

Projection: You can specify which fields you want to include or exclude from the result documents using the projection parameter. This allows you to retrieve only the necessary fields from the documents, which can improve query performance.

Sorting: You can sort the result documents based on one or more fields using the sort() method. Sorting can be done in ascending or descending order.

Limiting Results: You can limit the number of documents returned by using the limit() method. This is useful when dealing with large collections to improve performance and reduce network overhead.

import pymongo

client = pymongo.MongoClient("mongodb://localhost:27017/")  # Assuming MongoDB is running on localhost

mydb = client["mydatabase"]
mycol = mydb["customers"]

data = [
    {"name": "Alice", "age": 30},
    {"name": "Bob", "age": 25},
    {"name": "Charlie", "age": 35},
    {"name": "David", "age": 40}
]
mycol.insert_many(data)

all_documents = mycol.find()
print("All Documents:")
for doc in all_documents:
    print(doc)

age_criteria = {"age": {"$gt": 30}}
documents_gt_30 = mycol.find(age_criteria)
print("\nDocuments with Age Greater Than 30:")
for doc in documents_gt_30:
    print(doc)


Q6. Explain the sort() method. Give an example to demonstrate sorting in MongoDB.
In MongoDB, the sort() method is used to sort the result documents of a query based on one or more fields. The sort() method takes one parameter, which is a document specifying the fields to sort by and the sorting order (ascending or descending).

The syntax of the sort() method is as follows:
collection.find().sort(<field(s)>, <direction>)

<field(s)>: Specifies the field or fields to sort by. You can pass a single field or a list of fields to sort by multiple fields.
<direction>: Specifies the sorting order. Use pymongo.ASCENDING for ascending order (default) and pymongo.DESCENDING for descending order.

import pymongo

client = pymongo.MongoClient("mongodb://localhost:27017/")  # Assuming MongoDB is running on localhost

mydb = client["mydatabase"]
mycol = mydb["customers"]

data = [
    {"name": "Alice", "age": 30},
    {"name": "Bob", "age": 25},
    {"name": "Charlie", "age": 35},
    {"name": "David", "age": 40}
]
mycol.insert_many(data)

asc_sorted = mycol.find().sort("age", pymongo.ASCENDING)
print("Ascending Order (By Age):")
for doc in asc_sorted:
    print(doc)

desc_sorted = mycol.find().sort("name", pymongo.DESCENDING)
print("\nDescending Order (By Name):")
for doc in desc_sorted:
    print(doc)


Q7. Explain why delete_one(), delete_many(), and drop() is used.
delete_one(filter):
This method is used to delete a single document from a collection that matches the specified filter criteria.
It deletes only the first document that matches the filter criteria.
If multiple documents match the filter, only the first one encountered in the natural order of the collection will be deleted.
It returns a DeleteResult object that contains information about the operation, such as the number of documents deleted.

delete_many(filter):
This method is used to delete multiple documents from a collection that match the specified filter criteria.
It deletes all documents that match the filter criteria.
It returns a DeleteResult object that contains information about the operation, such as the number of documents deleted.

drop():
This method is used to drop an entire collection from the database.
Dropping a collection removes all documents and indexes associated with it.
It does not require any parameters.
Dropping a collection is irreversible, so it should be used with caution.

